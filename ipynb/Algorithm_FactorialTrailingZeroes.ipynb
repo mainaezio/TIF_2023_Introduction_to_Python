{
 "cells": [
  {
   "cell_type": "code",
   "execution_count": 7,
   "id": "8157b84e-fe6b-4c5b-87ab-1dae58c130a3",
   "metadata": {},
   "outputs": [],
   "source": [
    "def Count_Trailing_Zeroes_Factorial(n):\n",
    "    \"\"\"\n",
    "    Conta il numero di zeri finali in n-fattoriale\n",
    "    Metodo:\n",
    "    Determina successivamente la posizione nella tabellina del 5, 25, 125 etc\n",
    "    Essendo n! = 1*2*.....*n, se la parte intera di n/5 è k1 ci sono k1 interi contenuti nella tabellina del 5 in n!.\n",
    "    Ognuno contribuisce un fattore 10 perchè ci sono sempre abbastanza fattori 2.\n",
    "    Se la parte intera di n/25 è k2 ci sono k2 interi contenuti nella tabellina del 25 in n!.\n",
    "    Ognuno contribuisce un fattore 100, ma un fattore 10 era già stato incluso perchè tutti gli interi nella tabellina del 25\n",
    "    erano anche presenti nella tabellina del 5.\n",
    "    Il numero di zeri finali è quindi k1+k2+....+kp dove 5**p è la massima potenza di 5 minore di n.\n",
    "    \n",
    "    Fonte:https://medium.com/javarevisited/count-the-number-of-trailing-zeros-in-the-factorial-of-a-given-number-953f569d4c9d\n",
    "    \"\"\"\n",
    "    \n",
    "    if n <= 0:\n",
    "        print(f\"Il valore n di input è {n}.\\nn deve essere > 0\")\n",
    "        return 0\n",
    "    \n",
    "    zeroes = 0\n",
    "    div = 5\n",
    "    ratio = n/5\n",
    "    \n",
    "    while int(ratio) > 0:\n",
    "        zeroes += int(ratio)\n",
    "        ratio /= 5\n",
    "        \n",
    "    return zeroes \n",
    "        "
   ]
  },
  {
   "cell_type": "code",
   "execution_count": 8,
   "id": "1a77612f-8abf-4060-86ed-e55b17bda1aa",
   "metadata": {},
   "outputs": [
    {
     "data": {
      "text/plain": [
       "0"
      ]
     },
     "execution_count": 8,
     "metadata": {},
     "output_type": "execute_result"
    }
   ],
   "source": [
    "Count_Trailing_Zeroes_Factorial(4)"
   ]
  },
  {
   "cell_type": "code",
   "execution_count": 9,
   "id": "6f174e11-0d54-461d-bbe1-3f254d7487da",
   "metadata": {},
   "outputs": [
    {
     "data": {
      "text/plain": [
       "1"
      ]
     },
     "execution_count": 9,
     "metadata": {},
     "output_type": "execute_result"
    }
   ],
   "source": [
    "Count_Trailing_Zeroes_Factorial(7)"
   ]
  },
  {
   "cell_type": "code",
   "execution_count": 10,
   "id": "381fb59a-b0f5-4a45-9669-730d03503858",
   "metadata": {},
   "outputs": [
    {
     "data": {
      "text/plain": [
       "2"
      ]
     },
     "execution_count": 10,
     "metadata": {},
     "output_type": "execute_result"
    }
   ],
   "source": [
    "Count_Trailing_Zeroes_Factorial(12)"
   ]
  },
  {
   "cell_type": "code",
   "execution_count": 11,
   "id": "b8528d71-b5c7-45d2-b161-21e05ac4ebdd",
   "metadata": {},
   "outputs": [
    {
     "data": {
      "text/plain": [
       "6"
      ]
     },
     "execution_count": 11,
     "metadata": {},
     "output_type": "execute_result"
    }
   ],
   "source": [
    "Count_Trailing_Zeroes_Factorial(26)"
   ]
  },
  {
   "cell_type": "code",
   "execution_count": 12,
   "id": "ee46898c-062f-4aa1-a36a-097d5a0a7288",
   "metadata": {},
   "outputs": [
    {
     "data": {
      "text/plain": [
       "24"
      ]
     },
     "execution_count": 12,
     "metadata": {},
     "output_type": "execute_result"
    }
   ],
   "source": [
    "Count_Trailing_Zeroes_Factorial(100)"
   ]
  },
  {
   "cell_type": "code",
   "execution_count": null,
   "id": "606d8d53-3262-4105-aa07-e713d16db575",
   "metadata": {},
   "outputs": [],
   "source": []
  }
 ],
 "metadata": {
  "kernelspec": {
   "display_name": "Python 3 (ipykernel)",
   "language": "python",
   "name": "python3"
  },
  "language_info": {
   "codemirror_mode": {
    "name": "ipython",
    "version": 3
   },
   "file_extension": ".py",
   "mimetype": "text/x-python",
   "name": "python",
   "nbconvert_exporter": "python",
   "pygments_lexer": "ipython3",
   "version": "3.9.12"
  }
 },
 "nbformat": 4,
 "nbformat_minor": 5
}
