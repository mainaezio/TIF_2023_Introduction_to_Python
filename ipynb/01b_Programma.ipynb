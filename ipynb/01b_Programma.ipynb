{
 "cells": [
  {
   "cell_type": "markdown",
   "metadata": {},
   "source": [
    "<H1 style=\"font-size:50px\">Che cos'è un programma</H1>\n",
    "\n",
    "<div style = \"width:95%; padding:5px 10px 5px;  margin:50px 0px 10px 10px; font-size:18px\">\n",
    "    <UL>\n",
    "    <LI> Un programma è una successione di comandi che possono essere eseguiti (generalmente da un calcolatore)\n",
    "    <LI> Un programma è l'implementazione di un <b>Algoritmo</b>\n",
    "    <LI> La struttura base di un algoritmo, e quindi di un programma, è:\n",
    "        <UL>\n",
    "            <LI> Input\n",
    "            <LI> Procedimento\n",
    "            <LI> Output\n",
    "        </UL>\n",
    "    <LI> In ultima istanza un calcolatore agisce su numeri binari. \n",
    "    <LI> Oltre ai numeri interi, reali, complessi, si possono, per esempio, rappresentare in modo numerico:\n",
    "        <UL>\n",
    "            <LI> un punto nel piano (oppure sullo schermo di un terminale, ovvero in una stampante)\n",
    "            <LI> i risultati di una misurazione\n",
    "            <LI> un testo: codice ASCII, Unicode\n",
    "            <LI> un colore: RGB(127, 220, 180)\n",
    "        </UL>\n",
    "    <LI> Un programma normalmente viene scritto in un file e poi eseguito\n",
    "    <LI> Richiede un editor da programmazione\n",
    "</UL>\n",
    "</div>\n",
    "\n",
    "<hr>\n"
   ]
  },
  {
   "cell_type": "markdown",
   "metadata": {},
   "source": [
    "## Esempi"
   ]
  },
  {
   "cell_type": "markdown",
   "metadata": {},
   "source": [
    "### Programma Branzino_al_Cartoccio\n",
    "\n",
    "INGREDIENTI\n",
    "- 2 branzini da porzione\n",
    "- 4 rametti di rosmarino\n",
    "- 2 spicchi di aglio\n",
    "- Sale grosso\n",
    "- Olio extravergine di oliva\n",
    "- Pepe nero macinato al momento\n",
    "- Sale fino\n",
    "\n",
    "PREPARAZIONE\n",
    "\n",
    "- Lavare accuratamente il branzino, squamarlo e praticare una apertura sulla pancia per rimuovere le viscere.\n",
    "- Mettere nella pancia un rametto di rosmarino, uno spicchio di aglio affettato, un pizzico di sale grosso ed un filo d'olio di oliva.\n",
    "- Tagliare un foglio di carta stagnola lungo una decina di centimetri in più del branzino.\n",
    "- Disporre sul foglio di carta stagnola un filo d'olio, spennellarlo accuratamente, quindi disporvi il pesce.\n",
    "- Cospargere il pesce con un filo di olio di oliva, una macinata di pepe, un pizzico di sale e decorare con un rametto di rosmarino.\n",
    "- Chiudere il cartoccio sovrapponendo un altro foglio di alluminio e sigillare accuratamente lungo i bordi.\n",
    "- Infornare nel forno preriscaldato a 200°C per 30 minuti.\n",
    "- Servire immediatamente.\n"
   ]
  },
  {
   "cell_type": "markdown",
   "metadata": {},
   "source": [
    "### Programma Soluzione_equazione_secondo grado\n",
    "$$ a x^2 + b x + c = 0$$ \n",
    "I valori numerici di $a,\\, b,\\, c$ sono gli input che vengono dati al nostro programma<BR>\n",
    "I valori numerici della variabile $x$ per cui l'equazione è soddisfatta (a valori fissati di $a,\\, b,\\, c$) sono l'output del programma.<P>\n",
    "    \n",
    "- Se $a = b = 0 $: \n",
    "    - se $c = 0 $ ogni $x$ è soluzione; \n",
    "    - se $c \\neq 0 $ nessun $x$ è soluzione \n",
    "- Se $a = 0$:\n",
    "    - una sola soluzione $x_1 = -c/b$\n",
    "- Se $a \\neq 0$:\n",
    "    - Se $ d = b^2 -4ac \\lt 0$ : non ci sono soluzioni reali\n",
    "    - Se $  d = 0$ : una soluzione $x_1 = -b/(2a)$\n",
    "    - Se $  d \\gt 0$ : due soluzion1 $x_{1,2} = (-b\\pm\\sqrt{d})/(2a)$\n",
    "    "
   ]
  },
  {
   "cell_type": "code",
   "execution_count": null,
   "metadata": {},
   "outputs": [],
   "source": []
  }
 ],
 "metadata": {
  "kernelspec": {
   "display_name": "Python 3 (ipykernel)",
   "language": "python",
   "name": "python3"
  },
  "language_info": {
   "codemirror_mode": {
    "name": "ipython",
    "version": 3
   },
   "file_extension": ".py",
   "mimetype": "text/x-python",
   "name": "python",
   "nbconvert_exporter": "python",
   "pygments_lexer": "ipython3",
   "version": "3.9.12"
  }
 },
 "nbformat": 4,
 "nbformat_minor": 4
}
