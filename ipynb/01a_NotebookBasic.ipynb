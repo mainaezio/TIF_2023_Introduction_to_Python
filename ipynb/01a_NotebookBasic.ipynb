{
 "cells": [
  {
   "cell_type": "markdown",
   "metadata": {},
   "source": [
    "<H1 style=\"font-size:50px\">Come usare un Notebook</H1>\n",
    "\n",
    "<div style = \"width:95%; padding:5px 10px 5px;  margin:50px 0px 10px 10px; font-size:18px\">\n",
    "<UL> \n",
    "    <LI> Le celle\n",
    "    <UL> \n",
    "        <LI> Celle di testo (Markdown)\n",
    "        <LI> Celle di codice (Code)\n",
    "    </UL>\n",
    "<LI> Come editare una cella\n",
    "<LI> Come eseguire una cella\n",
    "<LI> Come creare nuova cella (comando +; menù \"Edit\")\n",
    "<LI> Come eliminare una cella (comando \"forbici\"; menù \"Edit\")\n",
    "<LI> Come spostare celle (menù \"Edit\")  \n",
    "</UL>\n",
    "</div>\n",
    "\n",
    "<hr>"
   ]
  },
  {
   "cell_type": "markdown",
   "metadata": {},
   "source": [
    "<BR>&nbsp;<BR>\n",
    "Per selezionare una cella, cliccate nella finestra. Comparire un bordino blu sulla sinistra. \n",
    "Quando una cella eseguibile è selezionata il codice che contiene può essere modificato.\n",
    "Per eseguire la cella, schiacciate Shift-Enter.<BR>\n",
    "La possibilità di eseguire pochi comandi alla volta è uno dei punti di forza di Jupyter.<BR>\n",
    "Per vedere o modificare il formato originale delle celle di testo, cliccate due volte nella finestra. Per tornare alla versione graficamente migliore, schiacciate Shift-Enter."
   ]
  },
  {
   "cell_type": "markdown",
   "metadata": {},
   "source": [
    "#### Regole base per scrivere comandi in Python:\n",
    "\n",
    "- Ritorno a capo conclude un comando\n",
    "- Comandi multilinea possono essere inseriti usando il carattere di continuazine `\\` (modo scoraggiato)\n",
    "- Comandi multilinea possono essere inseriti racchiudendo i comandi fra parentesi tonde (modo preferito)"
   ]
  },
  {
   "cell_type": "code",
   "execution_count": null,
   "metadata": {},
   "outputs": [],
   "source": [
    "3 + \\\n",
    "\\\n",
    "4"
   ]
  },
  {
   "cell_type": "code",
   "execution_count": null,
   "metadata": {},
   "outputs": [],
   "source": [
    "(3\n",
    "+\n",
    "6\n",
    ")"
   ]
  },
  {
   "cell_type": "markdown",
   "metadata": {},
   "source": [
    "Quando una cella viene eseguita solo il risultato dell'ultimo comando viene mostrato."
   ]
  },
  {
   "cell_type": "code",
   "execution_count": null,
   "metadata": {},
   "outputs": [],
   "source": [
    "3*5\n",
    "20/3"
   ]
  },
  {
   "cell_type": "markdown",
   "metadata": {},
   "source": [
    "Per mostrare i risultati precedenti si usa il comando `print`."
   ]
  },
  {
   "cell_type": "code",
   "execution_count": null,
   "metadata": {},
   "outputs": [],
   "source": [
    "print(3*5)\n",
    "20/3"
   ]
  },
  {
   "cell_type": "markdown",
   "metadata": {},
   "source": [
    "Se assegno un oggetto a una variabile, il risultato non viene visualizzato. Python assume che sia un passo intermedio in una sequenza di operazioni. Se voglio visualizzare il valore di una variabie è sufficiente scrivere il nome della variabile, oppure usare `print`."
   ]
  },
  {
   "cell_type": "code",
   "execution_count": null,
   "metadata": {},
   "outputs": [],
   "source": [
    "import math\n",
    "a = 27      # definisco a\n",
    "b = -13     # definisco b\n",
    "res = math.sqrt(a**3/b**4)     # uso a e b in un calcolo. Il risultato lo memorizzo nella variabile res."
   ]
  },
  {
   "cell_type": "code",
   "execution_count": null,
   "metadata": {},
   "outputs": [],
   "source": [
    "res"
   ]
  },
  {
   "cell_type": "markdown",
   "metadata": {},
   "source": [
    "Il valore delle variabili si conserva fra una cella e l'altra."
   ]
  },
  {
   "cell_type": "code",
   "execution_count": null,
   "metadata": {},
   "outputs": [],
   "source": [
    "res"
   ]
  },
  {
   "cell_type": "code",
   "execution_count": null,
   "metadata": {},
   "outputs": [],
   "source": [
    "print(res)"
   ]
  },
  {
   "cell_type": "markdown",
   "metadata": {},
   "source": [
    "Se modifico il valore di una variabile `p` questo non modifica il valore di altre variabili il cui valore dipende da `p`.\n",
    "Se voglio che il nuovo valore si propaghi ad altre variabili, devo esplicitamente ricalcolarle. Provate."
   ]
  },
  {
   "cell_type": "code",
   "execution_count": null,
   "metadata": {},
   "outputs": [],
   "source": [
    "p = 2        # variabile"
   ]
  },
  {
   "cell_type": "code",
   "execution_count": null,
   "metadata": {},
   "outputs": [],
   "source": [
    "q = p*p     # variabile che dipende da p"
   ]
  },
  {
   "cell_type": "code",
   "execution_count": null,
   "metadata": {},
   "outputs": [],
   "source": [
    "print(\"p vale\",p)                # Stampo il valore di p\n",
    "print(\"q=p*p vale\",q)            # Stampo il valore di q"
   ]
  },
  {
   "cell_type": "code",
   "execution_count": null,
   "metadata": {},
   "outputs": [],
   "source": [
    "p=4          # cambio il valore della variabile"
   ]
  },
  {
   "cell_type": "code",
   "execution_count": null,
   "metadata": {},
   "outputs": [],
   "source": [
    "print(\"p vale\",p)                # Stampo il valore di p (modificato)\n",
    "print(\"q=p*p vale\",q)            # Stampo il valore di q (inalterato)"
   ]
  },
  {
   "cell_type": "code",
   "execution_count": null,
   "metadata": {},
   "outputs": [],
   "source": [
    "q = p*p      # ricalcolo q"
   ]
  },
  {
   "cell_type": "code",
   "execution_count": null,
   "metadata": {},
   "outputs": [],
   "source": [
    "print(\"p vale\",p)                # Stampo il valore di q (modificato)\n",
    "print(\"q=p*p vale\",q)            # Stampo il valore di q (modificato)"
   ]
  },
  {
   "cell_type": "markdown",
   "metadata": {},
   "source": [
    "<div style = \"width:95%; padding:5px 10px 5px; border-style:solid; border-width:0px 0px 0px 10px; border-color:#b8d0d0; margin:20px 0px 10px 10px\">\n",
    "    <h4> Imparare Facendo</h4>\n",
    "<OL>\n",
    "<LI>Verificate che questa cella è di tipo <b>Markdown</b>.\n",
    "<LI>Create una nuova cella sotto questa cella.\n",
    "<LI>Verificate che la nuova cella è di tipo <b>Code</b>.\n",
    "<LI>Calcolate nella cella il cubo di 17.\n",
    "</OL>\n",
    "</div>"
   ]
  },
  {
   "cell_type": "markdown",
   "metadata": {},
   "source": [
    "<div style = \"width:95%; padding:5px 10px 5px; border-style:solid; border-width:0px 0px 0px 10px; border-color:#b8d0d0; margin:20px 0px 10px 10px\">\n",
    "    <h4>Imparare Facendo</h4>\n",
    "<OL start=\"5\">\n",
    "<LI>Rendete la cella che avete creato di tipo <b>Markdown</b>.\n",
    "<LI>Eseguite la cella.\n",
    "<LI>Rendete nuovamente la cella di tipo <b>Code</b>.\n",
    "<LI>Eseguite la cella.\n",
    "</OL>\n",
    "</div>"
   ]
  },
  {
   "cell_type": "markdown",
   "metadata": {},
   "source": [
    "<div style = \"width:95%; padding:5px 10px 5px; border-style:solid; border-width:0px 0px 0px 10px; border-color:#b8d0d0; margin:20px 0px 10px 10px\">\n",
    "    <h4> Imparare Facendo</h4>\n",
    "<OL start=\"9\">\n",
    "<LI>Assegnate il cubo di 17 alla variabile <b>temp</b>.\n",
    "<LI>Eseguite la cella.\n",
    "<LI>Aggiungete alla cella il comando di stampare <b>temp</b>.\n",
    "<LI>Eseguite la cella.\n",
    "<LI>Spostate la cella che avete creato al fondo del Notebook.\n",
    "<LI>Eliminate la cella.\n",
    "</OL>\n",
    "</div>"
   ]
  },
  {
   "cell_type": "code",
   "execution_count": null,
   "metadata": {},
   "outputs": [],
   "source": []
  }
 ],
 "metadata": {
  "kernelspec": {
   "display_name": "Python 3 (ipykernel)",
   "language": "python",
   "name": "python3"
  },
  "language_info": {
   "codemirror_mode": {
    "name": "ipython",
    "version": 3
   },
   "file_extension": ".py",
   "mimetype": "text/x-python",
   "name": "python",
   "nbconvert_exporter": "python",
   "pygments_lexer": "ipython3",
   "version": "3.9.12"
  }
 },
 "nbformat": 4,
 "nbformat_minor": 4
}
